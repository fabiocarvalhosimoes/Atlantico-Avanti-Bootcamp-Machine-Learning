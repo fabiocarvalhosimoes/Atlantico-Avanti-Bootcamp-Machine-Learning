{
  "nbformat": 4,
  "nbformat_minor": 0,
  "metadata": {
    "colab": {
      "provenance": []
    },
    "kernelspec": {
      "name": "python3",
      "display_name": "Python 3"
    },
    "language_info": {
      "name": "python"
    }
  },
  "cells": [
    {
      "cell_type": "markdown",
      "source": [
        "BootCamp Machine Learning - ATLÂNTICO-AVANTI\n",
        "\n",
        "- Atividade 02 (ATIV-02)\n",
        "\n",
        "**Instrutor:** Renê Ripado\n",
        "\n",
        "**Suporte Técnico:** Angélica Viana\n",
        "\n",
        "**Aluno:** Fábio Carvalho Simões\n",
        "\n",
        "\n",
        "\n",
        "Mais informações: https://github.com/fabiocarvalhosimoes/Atlantico-Avanti-Bootcamp-Machine-Learning"
      ],
      "metadata": {
        "id": "UF8K65RXew4x"
      }
    },
    {
      "cell_type": "markdown",
      "source": [
        "### Bibliotecas usadas"
      ],
      "metadata": {
        "id": "kuXQgiB0nHoD"
      }
    },
    {
      "cell_type": "code",
      "source": [
        "import matplotlib.pyplot as plt\n",
        "import numpy as np"
      ],
      "metadata": {
        "id": "cDsFgUP5nNrg"
      },
      "execution_count": 18,
      "outputs": []
    },
    {
      "cell_type": "markdown",
      "source": [
        "##1. Escreva uma função que receba uma lista de números e retorne outra lista com os números ímpares."
      ],
      "metadata": {
        "id": "Q2UBDjtMfjJ2"
      }
    },
    {
      "cell_type": "code",
      "source": [
        "# Três funções que recebem uma lista de números e retornam outra lista contendo apenas os números ímpares:\n",
        "\n",
        "# Função que retorna uma lista de números ímpares\n",
        "def numeros_impares(lista):\n",
        "    impares = [num for num in lista if num % 2 != 0]\n",
        "    return impares\n"
      ],
      "metadata": {
        "id": "E-ks0T7He3LL"
      },
      "execution_count": 37,
      "outputs": []
    },
    {
      "cell_type": "code",
      "source": [
        "# Função que retorna uma lista de números ímpares usando filter\n",
        "def numeros_impares_filter(lista):\n",
        "    impares = list(filter(lambda x: x % 2 != 0, lista))\n",
        "    return impares\n"
      ],
      "metadata": {
        "id": "sOKxkVr4gM7Y"
      },
      "execution_count": 2,
      "outputs": []
    },
    {
      "cell_type": "code",
      "source": [
        "# Função que retorna uma lista de números ímpares usando uma estrutura de loop\n",
        "def numeros_impares_loop(lista):\n",
        "    impares = []\n",
        "    for num in lista:\n",
        "        if num % 2 != 0:\n",
        "            impares.append(num)\n",
        "    return impares\n"
      ],
      "metadata": {
        "id": "sRa34A90gNaD"
      },
      "execution_count": 3,
      "outputs": []
    },
    {
      "cell_type": "code",
      "source": [
        "#Funções criadas para cada uma delas:\n",
        "\n",
        "numeros = [1, 2, 3, 4, 5, 6, 7, 8, 9, 10]\n",
        "\n",
        "# Usando a primeira função\n",
        "impares1 = numeros_impares(numeros)\n",
        "print(\"Números ímpares (usando compreensão de lista):\", impares1)\n",
        "\n",
        "# Usando a segunda função\n",
        "impares2 = numeros_impares_filter(numeros)\n",
        "print(\"Números ímpares (usando filter):\", impares2)\n",
        "\n",
        "# Usando a terceira função\n",
        "impares3 = numeros_impares_loop(numeros)\n",
        "print(\"Números ímpares (usando loop):\", impares3)\n"
      ],
      "metadata": {
        "colab": {
          "base_uri": "https://localhost:8080/"
        },
        "id": "IGw65x9vgWKV",
        "outputId": "ff00bb81-eccd-409d-ede3-7f7845ade1c6"
      },
      "execution_count": 36,
      "outputs": [
        {
          "output_type": "stream",
          "name": "stdout",
          "text": [
            "Números ímpares (usando compreensão de lista): [1, 3, 5, 7, 9]\n",
            "Números ímpares (usando filter): [1, 3, 5, 7, 9]\n",
            "Números ímpares (usando loop): [1, 3, 5, 7, 9]\n"
          ]
        }
      ]
    },
    {
      "cell_type": "markdown",
      "source": [
        "##2. Escreva uma função que receba uma lista de números e retorne outra lista com os números primos presentes."
      ],
      "metadata": {
        "id": "FShjz-7MhvV6"
      }
    },
    {
      "cell_type": "code",
      "source": [
        "# Segue as implementações de três funções:\n",
        "\n",
        "# Função que verifica se um número é primo\n",
        "def is_primo(num):\n",
        "    if num < 2:\n",
        "        return False\n",
        "    for i in range(2, int(num**0.5) + 1):\n",
        "        if num % i == 0:\n",
        "            return False\n",
        "    return True\n",
        "\n",
        "# Função que retorna uma lista de números primos\n",
        "def numeros_primos(lista):\n",
        "    primos = [num for num in lista if is_primo(num)]\n",
        "    return primos\n"
      ],
      "metadata": {
        "id": "X-M9N1cQgdr8"
      },
      "execution_count": 8,
      "outputs": []
    },
    {
      "cell_type": "code",
      "source": [
        "# Função que verifica se um número é primo\n",
        "def is_primo(num):\n",
        "    if num < 2:\n",
        "        return False\n",
        "    for i in range(2, int(num**0.5) + 1):\n",
        "        if num % i == 0:\n",
        "            return False\n",
        "    return True\n",
        "\n",
        "# Função que retorna uma lista de números primos usando filter\n",
        "def numeros_primos_filter(lista):\n",
        "    primos = list(filter(is_primo, lista))\n",
        "    return primos\n"
      ],
      "metadata": {
        "id": "_TtIwe0GiEj8"
      },
      "execution_count": 9,
      "outputs": []
    },
    {
      "cell_type": "code",
      "source": [
        "# Função que verifica número primo\n",
        "def is_primo(num):\n",
        "    if num < 2:\n",
        "        return False\n",
        "    for i in range(2, int(num**0.5) + 1):\n",
        "        if num % i == 0:\n",
        "            return False\n",
        "    return True\n",
        "\n",
        "# Função que retorna uma lista de números primos usando loop\n",
        "def numeros_primos_loop(lista):\n",
        "    primos = []\n",
        "    for num in lista:\n",
        "        if is_primo(num):\n",
        "            primos.append(num)\n",
        "    return primos\n"
      ],
      "metadata": {
        "id": "uGp01SXGiHOH"
      },
      "execution_count": 35,
      "outputs": []
    },
    {
      "cell_type": "code",
      "source": [
        "#Lista de números usada como argumento para cada uma delas:\n",
        "\n",
        "numeros = [1, 2, 3, 4, 5, 6, 7, 8, 9, 10]\n",
        "\n",
        "# Usando a primeira função\n",
        "primos1 = numeros_primos(numeros)\n",
        "print(\"Números primos (usando compreensão de lista):\", primos1)\n",
        "\n",
        "# Usando a segunda função\n",
        "primos2 = numeros_primos_filter(numeros)\n",
        "print(\"Números primos (usando filter):\", primos2)\n",
        "\n",
        "# Usando a terceira função\n",
        "primos3 = numeros_primos_loop(numeros)\n",
        "print(\"Números primos (usando loop):\", primos3)\n"
      ],
      "metadata": {
        "colab": {
          "base_uri": "https://localhost:8080/"
        },
        "id": "dW0a4bMkiOI_",
        "outputId": "66b0994f-b890-43a3-ff6b-9e38de781fa3"
      },
      "execution_count": 33,
      "outputs": [
        {
          "output_type": "stream",
          "name": "stdout",
          "text": [
            "Números primos (usando compreensão de lista): [2, 3, 5, 7]\n",
            "Números primos (usando filter): [2, 3, 5, 7]\n",
            "Números primos (usando loop): [2, 3, 5, 7]\n"
          ]
        }
      ]
    },
    {
      "cell_type": "markdown",
      "source": [
        "##3. Escreva uma função que receba duas listas e retorne outra lista com os elementos que estão presentes em apenas uma das listas."
      ],
      "metadata": {
        "id": "Q9ZwSZ8qjn99"
      }
    },
    {
      "cell_type": "code",
      "source": [
        "def elem_uni(lista1, lista2):\n",
        "    # Conjuntos dos elementos de cada lista\n",
        "    set1 = set(lista1)\n",
        "    set2 = set(lista2)\n",
        "\n",
        "    # Elementos presentes apenas em uma das listas\n",
        "    elementos_unicos = list(set1.symmetric_difference(set2))\n",
        "\n",
        "    return elementos_unicos\n",
        "\n",
        "# Exemplo com valores diferentes\n",
        "lista1 = [10, 20, 30, 40, 50]\n",
        "lista2 = [40, 50, 60, 70, 80]\n",
        "\n",
        "elementos_unicos_lista = elem_uni(lista1, lista2)\n",
        "print(\"Elementos presentes em apenas uma das listas:\", elementos_unicos_lista)\n"
      ],
      "metadata": {
        "colab": {
          "base_uri": "https://localhost:8080/"
        },
        "id": "JaLpObVCiiBI",
        "outputId": "6c1343f3-a4a4-4f2d-e491-76e9325867c3"
      },
      "execution_count": 13,
      "outputs": [
        {
          "output_type": "stream",
          "name": "stdout",
          "text": [
            "Elementos presentes em apenas uma das listas: [80, 20, 70, 10, 60, 30]\n"
          ]
        }
      ]
    },
    {
      "cell_type": "code",
      "source": [
        "#Iterando sobre os elementos de ambas as listas e adicionando à lista elementos_unicos\n",
        "\n",
        "def elem_uni(lista1, lista2):\n",
        "    # Elementos presentes em apenas uma das listas\n",
        "    elementos_unicos = [elemento for elemento in lista1 if elemento not in lista2] + [elemento for elemento in lista2 if elemento not in lista1]\n",
        "\n",
        "    return elementos_unicos\n",
        "\n",
        "# Exemplo com valores diferentes\n",
        "lista1 = [10, 20, 30, 40, 50]\n",
        "lista2 = [40, 50, 60, 70, 80]\n",
        "\n",
        "elementos_unicos_lista = elem_uni(lista1, lista2)\n",
        "print(\"Elementos presentes em apenas uma das listas:\", elementos_unicos_lista)\n"
      ],
      "metadata": {
        "colab": {
          "base_uri": "https://localhost:8080/"
        },
        "id": "qp57DZR-jo3m",
        "outputId": "a08ccc02-4be1-446b-b9e1-b3a2fff9f82c"
      },
      "execution_count": 14,
      "outputs": [
        {
          "output_type": "stream",
          "name": "stdout",
          "text": [
            "Elementos presentes em apenas uma das listas: [10, 20, 30, 60, 70, 80]\n"
          ]
        }
      ]
    },
    {
      "cell_type": "markdown",
      "source": [
        "#4. Dada uma lista de números inteiros, escreva uma função para encontrar o segundo maior valor na lista."
      ],
      "metadata": {
        "id": "Zq5094Tslh1w"
      }
    },
    {
      "cell_type": "code",
      "source": [
        "def segundo_maior(lista):\n",
        "    # Verifica se a lista possui pelo menos dois elementos\n",
        "    if len(lista) < 2:\n",
        "        return \"A lista deve conter pelo menos dois elementos.\"\n",
        "\n",
        "    # Remove duplicatas e ordena a lista em ordem decrescente\n",
        "    lista_ordenada = sorted(set(lista), reverse=True)\n",
        "\n",
        "    # O segundo maior valor é o segundo elemento da lista ordenada\n",
        "    segundo_maior_valor = lista_ordenada[1]\n",
        "\n",
        "    return segundo_maior_valor\n",
        "\n",
        "# Exemplo 1\n",
        "lista_exemplo1 = [3, 8, 1, 5, 10, 6]\n",
        "segundo_maior_valor1 = segundo_maior(lista_exemplo1)\n",
        "print(\"Segundo maior valor no exemplo 1:\", segundo_maior_valor1)\n",
        "\n",
        "# Exemplo 2\n",
        "lista_exemplo2 = [9, 2, 11, 6, 5, 9]\n",
        "segundo_maior_valor2 = segundo_maior(lista_exemplo2)\n",
        "print(\"Segundo maior valor no exemplo 2:\", segundo_maior_valor2)\n",
        "\n",
        "# Exemplo 3\n",
        "lista_exemplo3 = [20, 20, 18, 18, 16, 16]\n",
        "segundo_maior_valor3 = segundo_maior(lista_exemplo3)\n",
        "print(\"Segundo maior valor no exemplo 3:\", segundo_maior_valor3)\n"
      ],
      "metadata": {
        "colab": {
          "base_uri": "https://localhost:8080/"
        },
        "id": "C-RzjazUkweI",
        "outputId": "478904f4-1ec7-4703-d0ae-267ecb3b566c"
      },
      "execution_count": 15,
      "outputs": [
        {
          "output_type": "stream",
          "name": "stdout",
          "text": [
            "Segundo maior valor no exemplo 1: 8\n",
            "Segundo maior valor no exemplo 2: 9\n",
            "Segundo maior valor no exemplo 3: 18\n"
          ]
        }
      ]
    },
    {
      "cell_type": "markdown",
      "source": [
        "##5. Crie uma função que receba uma lista de tuplas, cada uma contendo o nome e a idade de uma pessoa, e retorne a lista ordenada pelo nome das pessoas em ordem alfabética."
      ],
      "metadata": {
        "id": "2zhGCuhnmUDx"
      }
    },
    {
      "cell_type": "code",
      "source": [
        "# A função sorted() ordena a lista com base no primeiro elemento de cada tupla, que é o nome.\n",
        "# A função lambda é passada como argumento para indicar e ordenar com base nos nomes.\n",
        "\n",
        "def ordenar_por_nome(lista_de_pessoas):\n",
        "    # Ordena a lista de pessoas pelo primeiro elemento de cada tupla\n",
        "    lista_ordenada = sorted(lista_de_pessoas, key=lambda x: x[0])\n",
        "    return lista_ordenada\n",
        "\n",
        "# Aplicação\n",
        "lista_de_pessoas = [(\"Fábio Carvalho Simões\", 41), (\"João Fábio Angêlo Carvalho\", 12)]\n",
        "lista_ordenada = ordenar_por_nome(lista_de_pessoas)\n",
        "print(\"Lista ordenada pelo nome das pessoas:\")\n",
        "for pessoa in lista_ordenada:\n",
        "    print(\"Nome:\", pessoa[0], \"- Idade:\", pessoa[1], \"anos\")\n",
        "\n"
      ],
      "metadata": {
        "colab": {
          "base_uri": "https://localhost:8080/"
        },
        "id": "vTBAvpo_lilP",
        "outputId": "48ff727a-51ad-4a74-bc7c-c5ae6d27a73e"
      },
      "execution_count": 32,
      "outputs": [
        {
          "output_type": "stream",
          "name": "stdout",
          "text": [
            "Lista ordenada pelo nome das pessoas:\n",
            "Nome: Fábio Carvalho Simões - Idade: 41 anos\n",
            "Nome: João Fábio Angêlo Carvalho - Idade: 12 anos\n"
          ]
        }
      ]
    },
    {
      "cell_type": "markdown",
      "source": [
        "#6.  Observe os espaços sublinhados e complete o código.\n",
        "\n",
        "\n",
        "![image.png](data:image/png;base64,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)"
      ],
      "metadata": {
        "id": "lNh7vezbnecW"
      }
    },
    {
      "cell_type": "code",
      "source": [
        "import matplotlib.pyplot as plt\n",
        "import numpy as np\n",
        "\n",
        "fig, axs = plt.subplots(ncols=2, nrows=2, figsize=(5.5, 3.5), layout=\"constrained\")\n",
        "\n",
        "for row in range(2):\n",
        "    for col in range(2):\n",
        "        axs[row, col].annotate(f'axs[{row}, {col}]', (0.5, 0.5),\n",
        "                               transform=axs[row, col].transAxes,\n",
        "                               ha='center', va='center', fontsize=18,\n",
        "                               color='darkgrey')\n",
        "\n",
        "fig.suptitle('plt.subplots()')\n",
        "plt.show()\n"
      ],
      "metadata": {
        "colab": {
          "base_uri": "https://localhost:8080/",
          "height": 378
        },
        "id": "I-alHGs6n5RS",
        "outputId": "b4996b62-0d69-4c7c-91e8-be059541ebd3"
      },
      "execution_count": 20,
      "outputs": [
        {
          "output_type": "display_data",
          "data": {
            "text/plain": [
              "<Figure size 550x350 with 4 Axes>"
            ],
            "image/png": "[encoded data removed]"
          },
          "metadata": {}
        }
      ]
    },
    {
      "cell_type": "markdown",
      "source": [
        "##7. Observe os espaços sublinhados e complete o código.\n",
        "\n",
        "![image.png](data:image/png;base64,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)"
      ],
      "metadata": {
        "id": "B1v5mI72oNoH"
      }
    },
    {
      "cell_type": "code",
      "source": [
        "import numpy as np\n",
        "import matplotlib as mpl\n",
        "import matplotlib.pyplot as plt\n",
        "\n",
        "x = np.linspace(-2 * np.pi, 2 * np.pi, 100)\n",
        "y = np.sin(x)\n",
        "\n",
        "fig, ax = plt.subplots()\n",
        "ax.plot(x, y)\n",
        "plt.show()\n"
      ],
      "metadata": {
        "colab": {
          "base_uri": "https://localhost:8080/",
          "height": 430
        },
        "id": "NcSBnWKcoRWU",
        "outputId": "9436f3ee-69ed-425e-d4cf-0e5aac8efc41"
      },
      "execution_count": 21,
      "outputs": [
        {
          "output_type": "display_data",
          "data": {
            "text/plain": [
              "<Figure size 640x480 with 1 Axes>"
            ],
            "image/png": "[encoded data removed]"
          },
          "metadata": {}
        }
      ]
    },
    {
      "cell_type": "markdown",
      "source": [
        "## 8. Utilizando pandas, como realizar a leitura de um arquivo CSV em um DataFrame e exibir as primeiras linhas?"
      ],
      "metadata": {
        "id": "z8Vba4cTooIw"
      }
    },
    {
      "cell_type": "code",
      "source": [
        "import pandas as pd\n",
        "\n",
        "# Load arquivo CSV em um DataFrame\n",
        "df = pd.read_csv('nome_do_arquivo.csv')\n",
        "\n",
        "# Exibir as primeiras linhas do DataFrame\n",
        "print(df.head())\n",
        "\n",
        "\n",
        "# ->>> Se colocamos para rodar dará erro, pois não definimos o aquivo. Ok!"
      ],
      "metadata": {
        "id": "MPNxcNXZotyf"
      },
      "execution_count": 31,
      "outputs": []
    },
    {
      "cell_type": "markdown",
      "source": [
        "#9. Utilizando pandas, como selecionar uma coluna específica e filtrar linhas em um “DataFrame” com base em uma condição?"
      ],
      "metadata": {
        "id": "8ma8C3pVpwzE"
      }
    },
    {
      "cell_type": "code",
      "source": [
        "import pandas as pd\n",
        "\n",
        "# Criar um DataFrame\n",
        "data = {'Nome': ['João', 'Maria', 'José', 'Ana'],\n",
        "        'Idade': [27, 35, 42, 31],\n",
        "        'Sexo': ['M', 'F', 'M', 'F']}\n",
        "df = pd.DataFrame(data)\n",
        "\n",
        "# Selecionar uma coluna específica\n",
        "nome_column = df['Nome']\n",
        "\n",
        "# Filtrar linhas com uma condição\n",
        "filtro = df[df['Idade'] > 30]\n",
        "\n",
        "# Exibir o resultado\n",
        "print(\"Coluna 'Nome':\")\n",
        "print(nome_column)\n",
        "print(\"\\nLinhas com idade superior a 30:\")\n",
        "print(filtro)\n"
      ],
      "metadata": {
        "colab": {
          "base_uri": "https://localhost:8080/"
        },
        "id": "u8wwAFZ9p83a",
        "outputId": "7185eae6-6655-47aa-a7e7-affea55d993b"
      },
      "execution_count": 29,
      "outputs": [
        {
          "output_type": "stream",
          "name": "stdout",
          "text": [
            "Coluna 'Nome':\n",
            "0     João\n",
            "1    Maria\n",
            "2     José\n",
            "3      Ana\n",
            "Name: Nome, dtype: object\n",
            "\n",
            "Linhas com idade superior a 30:\n",
            "    Nome  Idade Sexo\n",
            "1  Maria     35    F\n",
            "2   José     42    M\n",
            "3    Ana     31    F\n"
          ]
        }
      ]
    },
    {
      "cell_type": "markdown",
      "source": [
        "#10. Utilizando pandas, como lidar com valores ausentes (NaN) em um DataFrame?"
      ],
      "metadata": {
        "id": "-bLq6AWxqI8B"
      }
    },
    {
      "cell_type": "code",
      "source": [
        "import pandas as pd\n",
        "import numpy as np\n",
        "\n",
        "# DataFrame com valores ausentes\n",
        "data = {'A': [1, 2, np.nan, 4],\n",
        "        'B': [5, np.nan, np.nan, 8],\n",
        "        'C': [np.nan, 10, 11, 12]}\n",
        "df = pd.DataFrame(data)\n",
        "\n",
        "# Preencher valores ausentes com 0\n",
        "df_filled = df.fillna(0)\n",
        "print(\"DataFrame com valores ausentes preenchidos:\")\n",
        "print(df_filled)\n",
        "\n",
        "# Remover linhas com valores ausentes\n",
        "df_dropped = df.dropna()\n",
        "print(\"\\nDataFrame com linhas contendo valores ausentes removidas:\")\n",
        "print(df_dropped)\n"
      ],
      "metadata": {
        "colab": {
          "base_uri": "https://localhost:8080/"
        },
        "id": "wFKh60cIqJ6_",
        "outputId": "b9f7e166-483f-42d0-950e-b7291ddfc124"
      },
      "execution_count": 28,
      "outputs": [
        {
          "output_type": "stream",
          "name": "stdout",
          "text": [
            "DataFrame com valores ausentes preenchidos:\n",
            "     A    B     C\n",
            "0  1.0  5.0   0.0\n",
            "1  2.0  0.0  10.0\n",
            "2  0.0  0.0  11.0\n",
            "3  4.0  8.0  12.0\n",
            "\n",
            "DataFrame com linhas contendo valores ausentes removidas:\n",
            "     A    B     C\n",
            "3  4.0  8.0  12.0\n"
          ]
        }
      ]
    },
    {
      "cell_type": "markdown",
      "source": [],
      "metadata": {
        "id": "HLeTQKq3m4lN"
      }
    },
    {
      "cell_type": "code",
      "source": [],
      "metadata": {
        "id": "HyayUp0cm0Pc"
      },
      "execution_count": null,
      "outputs": []
    }
  ]
}