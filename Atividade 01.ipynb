{
 "cells": [
  {
   "cell_type": "markdown",
   "metadata": {},
   "source": [
    "(ATIV-01)\n",
    "\n",
    "### Tipo: Diagnóstica."
   ]
  },
  {
   "cell_type": "markdown",
   "metadata": {},
   "source": [
    "1. Explique, com suas palavras, o que é machine learning?\n",
    "\n",
    "\n",
    "O aprendizado de máquina (ML) é um ramo da inteligência artificial (IA) que se concentra no uso de dados e algoritmos para imitar a maneira como os humanos aprendem, melhorando gradualmente sua precisão ao longo do tempo. \n",
    "\n",
    "Existem quatro tipos de aprendizado de máquina: \n",
    "\n",
    "- aprendizado de máquina supervisionado;\n",
    "- aprendizado de máquina não supervisionado;\n",
    "- aprendizado semi-supervisionado e;\n",
    "- aprendizado por reforço.\n"
   ]
  },
  {
   "cell_type": "markdown",
   "metadata": {},
   "source": [
    "2. Explique o conceito de conjunto de treinamento, conjunto de validação e conjunto de teste em machine learning.\n",
    "\n",
    "2.1 - **conjunto de treinamento:** \n",
    "\n",
    "O conjunto de treinamento representa os dados que o usuário alimenta na rede, ou seja, as imagens que são destinadas é a espinha dorsal do conjunto de dados usado para treinar a ferramenta e uma grande quantidade de dados é alimentada em um sistema, e o sistema infere a partir dos dados o que queremos alcançar. Portanto, os dados (neste contexto, a imagem) são extremamente importantes.\n",
    "\n",
    "No âmbito do aprendizado profundo (Deep Learning), um conjunto de imagens de treinamento representa os dados que são passados para a rede. Ao configurar um conjunto de imagens de treinamento, examine o seguinte:\n",
    "\n",
    "O conjunto de imagens de treinamento representa a imagem de tempo de execução e estes incluem:\n",
    "\n",
    "- Iluminação – Se houver variação na iluminação, o conjunto de treinamento deve incluir a variação esperada na iluminação em tempo de execução.\n",
    "- Cor – A cor da peça mudará no tempo de execução? Em caso afirmativo, certifique-se de incluir quaisquer variações de cor.\n",
    "- Rotação/Tamanho – Quando uma peça está na frente da câmera, ela gira ou redimensiona? Se sim, você deve incluir essas flutuações também.\n",
    "- Variação específica da peça – Se houver variações sutis na peça que está sendo inspecionada, essas variações também devem ser incluídas no conjunto de treinamento.\n",
    "- Fundo – As imagens das peças são frequentemente capturadas em mesas. No entanto, as peças reais se movem em uma correia transportadora, o que é um fundo muito mais interessante para ferramentas de aprendizado profundo. Neste caso, o conjunto de treinamento deve ser obtido da correia transportadora. Além disso, se o fundo não for importante para a inspeção, ele pode ser apagado com uma máscara. Apagar o plano de fundo com uma máscara geralmente melhora o desempenho porque você não precisa treinar a rede com informações irrelevantes.\n",
    "\n",
    " Muitos problemas com ferramentas de aprendizagem profunda de programação podem ser resolvidos fornecendo mais imagens e dados e, em seguida, retreinando a ferramenta.\n",
    "\n",
    " 2.2 - **conjunto de validação:**\n",
    "\n",
    " Um Conjunto de Validação é um conjunto de dados para treinar um conjunto de treinamento para avaliar um modelo gerado a cada iteração. Se compararmos um modelo de aprendizagem profunda a um humano, é semelhante ao conceito de resolver um teste prático antes de um teste real. \n",
    " \n",
    " Para cada iteração durante o treinamento, a perda é calculada com base no resultado da previsão do conjunto de validação, e o modelo com a menor perda é selecionado como o modelo final.\n",
    "\n",
    "\n",
    "\n",
    "2.3 - **conjunto de teste em machine learning**\n",
    "\n",
    "Os conjuntos de teste são usados apenas para selecionar modelos com bom desempenho em dados comuns após o treinamento. Por exemplo, se você definir o número de épocas muito grande sem um conjunto de validação, poderá acabar com um modelo de sobreajuste para o conjunto de treinamento. Se você definir um número alto de épocas e iniciar o treinamento sem um conjunto de validação, não há como saber se um overfitting ocorre até que o treinamento termine.\n",
    "\n",
    "A diferença entre um conjunto de teste e um conjunto de validação é que o conjunto de validação está envolvido no processo de aprendizagem, enquanto o conjunto de teste não está envolvido. \n",
    "\n",
    "\n",
    "\n",
    "\n"
   ]
  },
  {
   "cell_type": "markdown",
   "metadata": {},
   "source": [
    "\n",
    "3. Explique como você lidaria com dados ausentes em um conjunto de dados de treinamento.\n",
    "\n",
    "\n",
    "Existem várias maneiras de lidar com dados ausentes em um conjunto de dados de treinamento. \n",
    "\n",
    "- As principais incluem:\n",
    "\n",
    "1. **Exclusão de dados:** Se os dados ausentes forem mínimos e o conjunto de dados for grande o suficiente, é possível excluir as linhas ou colunas que contenham dados ausentes.\n",
    "\n",
    "2. **Substituição ou imputação:** É comum substituir ou imputar dados ausentes. Isso pode ser feito usando os seguintes métodos:\n",
    "\n",
    "- Substituição pelo valor médio ou mediano: Para variáveis numéricas, os valores ausentes podem ser substituídos pela média ou mediana da coluna correspondente.\n",
    "- Substituição pelo valor mais frequente: Para variáveis categóricas, os valores ausentes podem ser substituídos pelo valor mais frequente na coluna correspondente.\n",
    "- Uso de modelos de previsão: Um modelo pode ser construído para prever os valores ausentes com base em outras variáveis. Modelos de regressão ou classificação são comumente usados para essa finalidade.\n",
    "\n",
    "3. **Interpolação de dados:** Em dados contínuos, como séries temporais, é possível usar técnicas de interpolação para estimar os valores ausentes. Métodos como interpolação linear, interpolação polinomial ou interpolação de séries temporais podem ser aplicados.\n",
    "\n",
    "4. **Substituição por um valor único:** Os dados ausentes podem ser substituídos por um valor específico. Esse valor pode ser escolhido com base nas características dos dados e geralmente é zero ou o valor mínimo disponível.\n",
    "\n",
    "A escolha e abordagem mais adequada depende das características dos dados e do contexto específico."
   ]
  },
  {
   "cell_type": "markdown",
   "metadata": {},
   "source": [
    "\n",
    "4. O que é uma matriz de confusão e como ela é usada para avaliar o desempenho de um modelo preditivo?\n",
    "\n",
    "Uma matriz de confusão é uma tabela que descreve o desempenho de um modelo de classificação em um conjunto de dados de teste, onde as entradas da matriz representam o número de vezes que uma classe real foi prevista corretamente ou incorretamente pelo modelo.\n",
    "\n",
    "A matriz de confusão é organizada em quatro células principais:\n",
    "\n",
    "- **Verdadeiro Positivo (VP):** Representa o número de observações da classe positiva que foram corretamente classificadas como positivas pelo modelo.\n",
    "- **Verdadeiro Negativo (VN):** Representa o número de observações da classe negativa que foram corretamente classificadas como negativas pelo modelo.\n",
    "- **Falso Positivo (FP):** Representa o número de observações da classe negativa que foram erroneamente classificadas como positivas pelo modelo (também conhecido como erro tipo I).\n",
    "- **Falso Negativo (FN):** Representa o número de observações da classe positiva que foram erroneamente classificadas como negativas pelo modelo (também conhecido como erro tipo II).\n",
    "\n",
    "A matriz de confusão é usada para avaliar o desempenho de um modelo preditivo ao fornecer uma visão detalhada das previsões feitas pelo modelo em relação aos resultados reais. Com base nos valores das células da matriz, é possível calcular várias métricas de desempenho que indicam o quão bem o modelo está performando em relação a cada classe, como: precisão, recall, F1-score e taxa de acerto."
   ]
  },
  {
   "cell_type": "markdown",
   "metadata": {},
   "source": [
    "5. Em quais áreas (tais como construção civil, agricultura, saúde, manufatura, entre outras) você acha mais interessante aplicar algoritmos de machine learning?\n",
    "\n",
    "Acho interessante o processo de reconhecimento de imagens e identificação de objetos, etc. Também acredito ser muito interessante como a pesquisa de imagens para monitorar a saúde das lavouras e identificar pragas ou doenças. Carros autônomos, imagens médicas, sistemas de vigilância que usam reconhecimento de imagem."
   ]
  }
 ],
 "metadata": {
  "language_info": {
   "name": "python"
  }
 },
 "nbformat": 4,
 "nbformat_minor": 2
}
